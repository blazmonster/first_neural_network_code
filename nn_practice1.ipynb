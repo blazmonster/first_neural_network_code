{
 "cells": [
  {
   "cell_type": "code",
   "execution_count": 2,
   "metadata": {},
   "outputs": [
    {
     "name": "stdout",
     "output_type": "stream",
     "text": [
      "trained_output\n",
      "[[0.]\n",
      " [1.]\n",
      " [0.]\n",
      " [0.]]\n"
     ]
    }
   ],
   "source": [
    "import numpy as np \n",
    "\n",
    "def sigmoid(z):\n",
    "    return 1/(1+np.exp(-0.01*z))\n",
    "def sig_derivatives(x):\n",
    "    return sigmoid(x)*(1-sigmoid(x))\n",
    "\n",
    "training_inputs= np.array([[0,0,1],[1,1,1],[1,0,1],[0,1,1]])\n",
    "training_outputs=np.array([[0],[1],[0],[0]])\n",
    "np.random.seed(1)\n",
    "synaptic_weights= 2*np.random.random((3,1))-1\n",
    "#print(synaptic_weights)\n",
    "for iteration in range(50000):\n",
    "    input_layer=training_inputs\n",
    "    outputs=sigmoid(np.dot(input_layer,synaptic_weights))\n",
    "    error=training_outputs-outputs\n",
    "    correction=error*sig_derivatives(outputs)\n",
    "    synaptic_weights+=np.dot(input_layer.T,correction)\n",
    "\n",
    "adj_output=outputs\n",
    "for i in range(len(adj_output)):\n",
    "    if(adj_output[i]>0.9):\n",
    "        adj_output[i]=1.0\n",
    "    elif(adj_output[i]<0.1):\n",
    "        adj_output[i]=0.0\n",
    "print(\"trained_output\")    \n",
    "print(adj_output)"
   ]
  }
 ],
 "metadata": {
  "kernelspec": {
   "display_name": "Python 3",
   "language": "python",
   "name": "python3"
  },
  "language_info": {
   "codemirror_mode": {
    "name": "ipython",
    "version": 3
   },
   "file_extension": ".py",
   "mimetype": "text/x-python",
   "name": "python",
   "nbconvert_exporter": "python",
   "pygments_lexer": "ipython3",
   "version": "3.6.3rc1"
  }
 },
 "nbformat": 4,
 "nbformat_minor": 2
}
